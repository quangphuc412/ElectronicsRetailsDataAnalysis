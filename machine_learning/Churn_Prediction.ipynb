{
 "cells": [
  {
   "cell_type": "markdown",
   "id": "fbd6456e",
   "metadata": {},
   "source": [
    "## Import Library"
   ]
  },
  {
   "cell_type": "code",
   "execution_count": 22,
   "id": "9c2f3f1d",
   "metadata": {},
   "outputs": [],
   "source": [
    "import pandas as pd"
   ]
  },
  {
   "cell_type": "markdown",
   "id": "4baf1fcd",
   "metadata": {},
   "source": [
    "## Load data"
   ]
  },
  {
   "cell_type": "code",
   "execution_count": 23,
   "id": "06a5f8b4",
   "metadata": {},
   "outputs": [
    {
     "name": "stdout",
     "output_type": "stream",
     "text": [
      "../data/report/Customer_report_data.csv\n"
     ]
    }
   ],
   "source": [
    "import os\n",
    "for dirname, _, filenames in os.walk('../data/report/'):\n",
    "    for filename in filenames:\n",
    "        print(os.path.join(dirname, filename))"
   ]
  },
  {
   "cell_type": "code",
   "execution_count": 24,
   "id": "372e4684",
   "metadata": {},
   "outputs": [
    {
     "data": {
      "text/html": [
       "<div>\n",
       "<style scoped>\n",
       "    .dataframe tbody tr th:only-of-type {\n",
       "        vertical-align: middle;\n",
       "    }\n",
       "\n",
       "    .dataframe tbody tr th {\n",
       "        vertical-align: top;\n",
       "    }\n",
       "\n",
       "    .dataframe thead th {\n",
       "        text-align: right;\n",
       "    }\n",
       "</style>\n",
       "<table border=\"1\" class=\"dataframe\">\n",
       "  <thead>\n",
       "    <tr style=\"text-align: right;\">\n",
       "      <th></th>\n",
       "      <th>CustomerKey</th>\n",
       "      <th>Country</th>\n",
       "      <th>State</th>\n",
       "      <th>Gender</th>\n",
       "      <th>Age</th>\n",
       "      <th>Customer_Segment</th>\n",
       "      <th>First_Order_Date</th>\n",
       "      <th>Last_Order_Date</th>\n",
       "      <th>Recency</th>\n",
       "      <th>Lifespan</th>\n",
       "      <th>Total_Orders</th>\n",
       "      <th>Total_Sales</th>\n",
       "      <th>Total_Quantity</th>\n",
       "      <th>Total_Products</th>\n",
       "      <th>Avg_Order_Value</th>\n",
       "      <th>Avg_Monthly_Spend</th>\n",
       "      <th>Cluster</th>\n",
       "    </tr>\n",
       "  </thead>\n",
       "  <tbody>\n",
       "    <tr>\n",
       "      <th>0</th>\n",
       "      <td>1000050</td>\n",
       "      <td>United Kingdom</td>\n",
       "      <td>South Lakeland</td>\n",
       "      <td>Female</td>\n",
       "      <td>42</td>\n",
       "      <td>At-Risk / Low-Value Customers</td>\n",
       "      <td>2017-02-11</td>\n",
       "      <td>2020-02-22</td>\n",
       "      <td>364</td>\n",
       "      <td>36</td>\n",
       "      <td>2</td>\n",
       "      <td>1292.970009</td>\n",
       "      <td>5</td>\n",
       "      <td>4</td>\n",
       "      <td>646.485004</td>\n",
       "      <td>35.915834</td>\n",
       "      <td>1</td>\n",
       "    </tr>\n",
       "    <tr>\n",
       "      <th>1</th>\n",
       "      <td>1000168</td>\n",
       "      <td>United Kingdom</td>\n",
       "      <td>New Forest</td>\n",
       "      <td>Male</td>\n",
       "      <td>51</td>\n",
       "      <td>Loyal Customers</td>\n",
       "      <td>2018-07-21</td>\n",
       "      <td>2019-11-02</td>\n",
       "      <td>476</td>\n",
       "      <td>16</td>\n",
       "      <td>3</td>\n",
       "      <td>10160.859987</td>\n",
       "      <td>41</td>\n",
       "      <td>10</td>\n",
       "      <td>3386.953329</td>\n",
       "      <td>635.053749</td>\n",
       "      <td>0</td>\n",
       "    </tr>\n",
       "    <tr>\n",
       "      <th>2</th>\n",
       "      <td>1000242</td>\n",
       "      <td>United Kingdom</td>\n",
       "      <td>Newark and Sherwood</td>\n",
       "      <td>Female</td>\n",
       "      <td>21</td>\n",
       "      <td>At-Risk / Low-Value Customers</td>\n",
       "      <td>2016-10-17</td>\n",
       "      <td>2018-08-31</td>\n",
       "      <td>904</td>\n",
       "      <td>22</td>\n",
       "      <td>2</td>\n",
       "      <td>8010.959999</td>\n",
       "      <td>19</td>\n",
       "      <td>4</td>\n",
       "      <td>4005.480000</td>\n",
       "      <td>364.134545</td>\n",
       "      <td>1</td>\n",
       "    </tr>\n",
       "    <tr>\n",
       "      <th>3</th>\n",
       "      <td>100040</td>\n",
       "      <td>Australia</td>\n",
       "      <td>Victoria</td>\n",
       "      <td>Female</td>\n",
       "      <td>80</td>\n",
       "      <td>At-Risk / Low-Value Customers</td>\n",
       "      <td>2018-08-30</td>\n",
       "      <td>2018-08-30</td>\n",
       "      <td>905</td>\n",
       "      <td>0</td>\n",
       "      <td>1</td>\n",
       "      <td>4158.000000</td>\n",
       "      <td>9</td>\n",
       "      <td>3</td>\n",
       "      <td>4158.000000</td>\n",
       "      <td>4158.000000</td>\n",
       "      <td>1</td>\n",
       "    </tr>\n",
       "    <tr>\n",
       "      <th>4</th>\n",
       "      <td>1000489</td>\n",
       "      <td>United Kingdom</td>\n",
       "      <td>York</td>\n",
       "      <td>Female</td>\n",
       "      <td>37</td>\n",
       "      <td>At-Risk / Low-Value Customers</td>\n",
       "      <td>2017-06-02</td>\n",
       "      <td>2018-12-24</td>\n",
       "      <td>789</td>\n",
       "      <td>18</td>\n",
       "      <td>2</td>\n",
       "      <td>3739.610005</td>\n",
       "      <td>23</td>\n",
       "      <td>10</td>\n",
       "      <td>1869.805002</td>\n",
       "      <td>207.756111</td>\n",
       "      <td>1</td>\n",
       "    </tr>\n",
       "  </tbody>\n",
       "</table>\n",
       "</div>"
      ],
      "text/plain": [
       "   CustomerKey         Country                State  Gender  Age  \\\n",
       "0      1000050  United Kingdom       South Lakeland  Female   42   \n",
       "1      1000168  United Kingdom           New Forest    Male   51   \n",
       "2      1000242  United Kingdom  Newark and Sherwood  Female   21   \n",
       "3       100040       Australia             Victoria  Female   80   \n",
       "4      1000489  United Kingdom                 York  Female   37   \n",
       "\n",
       "                Customer_Segment First_Order_Date Last_Order_Date  Recency  \\\n",
       "0  At-Risk / Low-Value Customers       2017-02-11      2020-02-22      364   \n",
       "1                Loyal Customers       2018-07-21      2019-11-02      476   \n",
       "2  At-Risk / Low-Value Customers       2016-10-17      2018-08-31      904   \n",
       "3  At-Risk / Low-Value Customers       2018-08-30      2018-08-30      905   \n",
       "4  At-Risk / Low-Value Customers       2017-06-02      2018-12-24      789   \n",
       "\n",
       "   Lifespan  Total_Orders   Total_Sales  Total_Quantity  Total_Products  \\\n",
       "0        36             2   1292.970009               5               4   \n",
       "1        16             3  10160.859987              41              10   \n",
       "2        22             2   8010.959999              19               4   \n",
       "3         0             1   4158.000000               9               3   \n",
       "4        18             2   3739.610005              23              10   \n",
       "\n",
       "   Avg_Order_Value  Avg_Monthly_Spend  Cluster  \n",
       "0       646.485004          35.915834        1  \n",
       "1      3386.953329         635.053749        0  \n",
       "2      4005.480000         364.134545        1  \n",
       "3      4158.000000        4158.000000        1  \n",
       "4      1869.805002         207.756111        1  "
      ]
     },
     "execution_count": 24,
     "metadata": {},
     "output_type": "execute_result"
    }
   ],
   "source": [
    "data = pd.read_csv(\"../data/report/Customer_report_data.csv\")\n",
    "data.head()"
   ]
  },
  {
   "cell_type": "markdown",
   "id": "79d9556e",
   "metadata": {},
   "source": [
    "## Get data for model"
   ]
  },
  {
   "cell_type": "code",
   "execution_count": 34,
   "id": "b4be75c9",
   "metadata": {},
   "outputs": [
    {
     "data": {
      "text/html": [
       "<div>\n",
       "<style scoped>\n",
       "    .dataframe tbody tr th:only-of-type {\n",
       "        vertical-align: middle;\n",
       "    }\n",
       "\n",
       "    .dataframe tbody tr th {\n",
       "        vertical-align: top;\n",
       "    }\n",
       "\n",
       "    .dataframe thead th {\n",
       "        text-align: right;\n",
       "    }\n",
       "</style>\n",
       "<table border=\"1\" class=\"dataframe\">\n",
       "  <thead>\n",
       "    <tr style=\"text-align: right;\">\n",
       "      <th></th>\n",
       "      <th>Total_Sales</th>\n",
       "      <th>Total_Orders</th>\n",
       "      <th>Total_Quantity</th>\n",
       "      <th>Total_Products</th>\n",
       "      <th>Age</th>\n",
       "      <th>Recency</th>\n",
       "      <th>Avg_Order_Value</th>\n",
       "      <th>Avg_Monthly_Spend</th>\n",
       "      <th>Gender</th>\n",
       "      <th>Country</th>\n",
       "    </tr>\n",
       "  </thead>\n",
       "  <tbody>\n",
       "    <tr>\n",
       "      <th>0</th>\n",
       "      <td>1292.970009</td>\n",
       "      <td>2</td>\n",
       "      <td>5</td>\n",
       "      <td>4</td>\n",
       "      <td>42</td>\n",
       "      <td>364</td>\n",
       "      <td>646.485004</td>\n",
       "      <td>35.915834</td>\n",
       "      <td>Female</td>\n",
       "      <td>United Kingdom</td>\n",
       "    </tr>\n",
       "    <tr>\n",
       "      <th>1</th>\n",
       "      <td>10160.859987</td>\n",
       "      <td>3</td>\n",
       "      <td>41</td>\n",
       "      <td>10</td>\n",
       "      <td>51</td>\n",
       "      <td>476</td>\n",
       "      <td>3386.953329</td>\n",
       "      <td>635.053749</td>\n",
       "      <td>Male</td>\n",
       "      <td>United Kingdom</td>\n",
       "    </tr>\n",
       "    <tr>\n",
       "      <th>2</th>\n",
       "      <td>8010.959999</td>\n",
       "      <td>2</td>\n",
       "      <td>19</td>\n",
       "      <td>4</td>\n",
       "      <td>21</td>\n",
       "      <td>904</td>\n",
       "      <td>4005.480000</td>\n",
       "      <td>364.134545</td>\n",
       "      <td>Female</td>\n",
       "      <td>United Kingdom</td>\n",
       "    </tr>\n",
       "    <tr>\n",
       "      <th>3</th>\n",
       "      <td>4158.000000</td>\n",
       "      <td>1</td>\n",
       "      <td>9</td>\n",
       "      <td>3</td>\n",
       "      <td>80</td>\n",
       "      <td>905</td>\n",
       "      <td>4158.000000</td>\n",
       "      <td>4158.000000</td>\n",
       "      <td>Female</td>\n",
       "      <td>Australia</td>\n",
       "    </tr>\n",
       "    <tr>\n",
       "      <th>4</th>\n",
       "      <td>3739.610005</td>\n",
       "      <td>2</td>\n",
       "      <td>23</td>\n",
       "      <td>10</td>\n",
       "      <td>37</td>\n",
       "      <td>789</td>\n",
       "      <td>1869.805002</td>\n",
       "      <td>207.756111</td>\n",
       "      <td>Female</td>\n",
       "      <td>United Kingdom</td>\n",
       "    </tr>\n",
       "  </tbody>\n",
       "</table>\n",
       "</div>"
      ],
      "text/plain": [
       "    Total_Sales  Total_Orders  Total_Quantity  Total_Products  Age  Recency  \\\n",
       "0   1292.970009             2               5               4   42      364   \n",
       "1  10160.859987             3              41              10   51      476   \n",
       "2   8010.959999             2              19               4   21      904   \n",
       "3   4158.000000             1               9               3   80      905   \n",
       "4   3739.610005             2              23              10   37      789   \n",
       "\n",
       "   Avg_Order_Value  Avg_Monthly_Spend  Gender         Country  \n",
       "0       646.485004          35.915834  Female  United Kingdom  \n",
       "1      3386.953329         635.053749    Male  United Kingdom  \n",
       "2      4005.480000         364.134545  Female  United Kingdom  \n",
       "3      4158.000000        4158.000000  Female       Australia  \n",
       "4      1869.805002         207.756111  Female  United Kingdom  "
      ]
     },
     "execution_count": 34,
     "metadata": {},
     "output_type": "execute_result"
    }
   ],
   "source": [
    "features = [\n",
    "    'Total_Sales',\n",
    "    'Total_Orders',\n",
    "    'Total_Quantity',\n",
    "    'Total_Products',\n",
    "    'Age',\n",
    "    'Recency',\n",
    "    'Avg_Order_Value',\n",
    "    'Avg_Monthly_Spend',\n",
    "    'Gender',\n",
    "    'Country'\n",
    "]\n",
    "df = data[features]\n",
    "df.head()"
   ]
  },
  {
   "cell_type": "code",
   "execution_count": 35,
   "id": "d4e60e1f",
   "metadata": {},
   "outputs": [
    {
     "data": {
      "text/plain": [
       "count    11887.000000\n",
       "mean       614.142088\n",
       "std        406.202795\n",
       "min          0.000000\n",
       "25%        366.000000\n",
       "50%        508.000000\n",
       "75%        795.000000\n",
       "max       1877.000000\n",
       "Name: Recency, dtype: float64"
      ]
     },
     "execution_count": 35,
     "metadata": {},
     "output_type": "execute_result"
    }
   ],
   "source": [
    "df['Recency'].describe()"
   ]
  },
  {
   "cell_type": "markdown",
   "id": "5cc1839b",
   "metadata": {},
   "source": [
    "## Create Lable"
   ]
  },
  {
   "cell_type": "code",
   "execution_count": 36,
   "id": "3d2b454e",
   "metadata": {},
   "outputs": [
    {
     "name": "stderr",
     "output_type": "stream",
     "text": [
      "C:\\Users\\Acer\\AppData\\Local\\Temp\\ipykernel_15464\\2543945023.py:2: SettingWithCopyWarning: \n",
      "A value is trying to be set on a copy of a slice from a DataFrame.\n",
      "Try using .loc[row_indexer,col_indexer] = value instead\n",
      "\n",
      "See the caveats in the documentation: https://pandas.pydata.org/pandas-docs/stable/user_guide/indexing.html#returning-a-view-versus-a-copy\n",
      "  df['Churn'] = df['Recency'].apply(lambda x: 1 if x > 366 else 0)\n"
     ]
    }
   ],
   "source": [
    "# Ví dụ: Nếu không mua hàng trong 12 tháng gần nhất => churn\n",
    "df['Churn'] = df['Recency'].apply(lambda x: 1 if x > 366 else 0)"
   ]
  },
  {
   "cell_type": "markdown",
   "id": "84321287",
   "metadata": {},
   "source": [
    "## Preprocessing"
   ]
  },
  {
   "cell_type": "code",
   "execution_count": 38,
   "id": "f93f10d9",
   "metadata": {},
   "outputs": [
    {
     "name": "stderr",
     "output_type": "stream",
     "text": [
      "C:\\Users\\Acer\\AppData\\Local\\Temp\\ipykernel_15464\\1347121704.py:5: SettingWithCopyWarning: \n",
      "A value is trying to be set on a copy of a slice from a DataFrame.\n",
      "Try using .loc[row_indexer,col_indexer] = value instead\n",
      "\n",
      "See the caveats in the documentation: https://pandas.pydata.org/pandas-docs/stable/user_guide/indexing.html#returning-a-view-versus-a-copy\n",
      "  df['Gender'] = LabelEncoder().fit_transform(df['Gender'])\n",
      "C:\\Users\\Acer\\AppData\\Local\\Temp\\ipykernel_15464\\1347121704.py:6: SettingWithCopyWarning: \n",
      "A value is trying to be set on a copy of a slice from a DataFrame.\n",
      "Try using .loc[row_indexer,col_indexer] = value instead\n",
      "\n",
      "See the caveats in the documentation: https://pandas.pydata.org/pandas-docs/stable/user_guide/indexing.html#returning-a-view-versus-a-copy\n",
      "  df['Country'] = LabelEncoder().fit_transform(df['Country'])\n"
     ]
    }
   ],
   "source": [
    "from sklearn.preprocessing import StandardScaler, LabelEncoder\n",
    "from sklearn.model_selection import train_test_split\n",
    "\n",
    "# Encode categorical\n",
    "df['Gender'] = LabelEncoder().fit_transform(df['Gender'])\n",
    "df['Country'] = LabelEncoder().fit_transform(df['Country'])\n",
    "\n",
    "# Chọn features và label\n",
    "X = df[features]\n",
    "y = df['Churn']\n",
    "\n",
    "# Chuẩn hóa dữ liệu\n",
    "scaler = StandardScaler()\n",
    "X_scaled = scaler.fit_transform(X)\n",
    "\n",
    "# Tách train-test\n",
    "X_train, X_test, y_train, y_test = train_test_split(X_scaled, y, test_size=0.2, random_state=42)\n"
   ]
  },
  {
   "cell_type": "markdown",
   "id": "9ca5b0e7",
   "metadata": {},
   "source": [
    "## Train Model\n",
    "### 1.Random Forest"
   ]
  },
  {
   "cell_type": "code",
   "execution_count": 39,
   "id": "5a27901e",
   "metadata": {},
   "outputs": [
    {
     "name": "stdout",
     "output_type": "stream",
     "text": [
      "              precision    recall  f1-score   support\n",
      "\n",
      "           0       1.00      1.00      1.00       573\n",
      "           1       1.00      1.00      1.00      1805\n",
      "\n",
      "    accuracy                           1.00      2378\n",
      "   macro avg       1.00      1.00      1.00      2378\n",
      "weighted avg       1.00      1.00      1.00      2378\n",
      "\n",
      "Accuracy: 1.0\n"
     ]
    }
   ],
   "source": [
    "from sklearn.ensemble import RandomForestClassifier\n",
    "from sklearn.metrics import classification_report, confusion_matrix, accuracy_score\n",
    "\n",
    "model = RandomForestClassifier(n_estimators=100, random_state=42)\n",
    "model.fit(X_train, y_train)\n",
    "\n",
    "# Dự đoán\n",
    "y_pred = model.predict(X_test)\n",
    "\n",
    "# Đánh giá\n",
    "print(classification_report(y_test, y_pred))\n",
    "print(\"Accuracy:\", accuracy_score(y_test, y_pred))\n"
   ]
  },
  {
   "cell_type": "code",
   "execution_count": 40,
   "id": "a80ef968",
   "metadata": {},
   "outputs": [
    {
     "data": {
      "image/png": "[encoded data removed]",
      "text/plain": [
       "<Figure size 640x480 with 2 Axes>"
      ]
     },
     "metadata": {},
     "output_type": "display_data"
    }
   ],
   "source": [
    "import seaborn as sns\n",
    "import matplotlib.pyplot as plt\n",
    "\n",
    "# Ma trận nhầm lẫn\n",
    "sns.heatmap(confusion_matrix(y_test, y_pred), annot=True, fmt='d')\n",
    "plt.title('Confusion Matrix')\n",
    "plt.xlabel('Predicted')\n",
    "plt.ylabel('Actual')\n",
    "plt.show()"
   ]
  },
  {
   "cell_type": "code",
   "execution_count": 42,
   "id": "51a72f4c",
   "metadata": {},
   "outputs": [
    {
     "data": {
      "image/png": "[encoded data removed]",
      "text/plain": [
       "<Figure size 1000x600 with 1 Axes>"
      ]
     },
     "metadata": {},
     "output_type": "display_data"
    }
   ],
   "source": [
    "importances = model.feature_importances_\n",
    "feat_names = df[features].columns\n",
    "\n",
    "plt.figure(figsize=(10, 6))\n",
    "sns.barplot(x=importances, y=feat_names)\n",
    "plt.title(\"Feature Importance for Churn Prediction\")\n",
    "plt.show()"
   ]
  },
  {
   "cell_type": "markdown",
   "id": "f2a7f5cb",
   "metadata": {},
   "source": [
    "**Conclusion:**\n",
    "1. Recency is the most important factor.\n",
    "2. The secondary factors play a very small role:\n",
    "   - Avg_Monthly_Spend, Total_Orders, Total_Quantity, Total_Products have a slight influence.\n",
    "   - Age, Country, Gender, Avg_Order_Value and Total_Sales have almost no influence on churn/active distinction — at least in the current model."
   ]
  },
  {
   "cell_type": "markdown",
   "id": "21f63400",
   "metadata": {},
   "source": [
    "### Model improvement:\n",
    "- Because Recency dominates so strongly, if you want to make a model that \"guesses when Recency is high\".\n",
    "  - Train the model **without using Recency** → to explore the influence of the remaining factors.\n",
    "- Create additional behavioral features such as:\n",
    "  - Time between the last 2 purchases.\n",
    "  - Spending trends over time (decreasing?).\n",
    "  - Change in purchase frequency in the last 6 months."
   ]
  },
  {
   "cell_type": "code",
   "execution_count": 52,
   "id": "bb2c9ac6",
   "metadata": {},
   "outputs": [
    {
     "data": {
      "text/html": [
       "<div>\n",
       "<style scoped>\n",
       "    .dataframe tbody tr th:only-of-type {\n",
       "        vertical-align: middle;\n",
       "    }\n",
       "\n",
       "    .dataframe tbody tr th {\n",
       "        vertical-align: top;\n",
       "    }\n",
       "\n",
       "    .dataframe thead th {\n",
       "        text-align: right;\n",
       "    }\n",
       "</style>\n",
       "<table border=\"1\" class=\"dataframe\">\n",
       "  <thead>\n",
       "    <tr style=\"text-align: right;\">\n",
       "      <th></th>\n",
       "      <th>Total_Sales</th>\n",
       "      <th>Total_Orders</th>\n",
       "      <th>Total_Quantity</th>\n",
       "      <th>Total_Products</th>\n",
       "      <th>Recency</th>\n",
       "      <th>Avg_Order_Value</th>\n",
       "      <th>Avg_Monthly_Spend</th>\n",
       "    </tr>\n",
       "  </thead>\n",
       "  <tbody>\n",
       "    <tr>\n",
       "      <th>0</th>\n",
       "      <td>1292.970009</td>\n",
       "      <td>2</td>\n",
       "      <td>5</td>\n",
       "      <td>4</td>\n",
       "      <td>364</td>\n",
       "      <td>646.485004</td>\n",
       "      <td>35.915834</td>\n",
       "    </tr>\n",
       "    <tr>\n",
       "      <th>1</th>\n",
       "      <td>10160.859987</td>\n",
       "      <td>3</td>\n",
       "      <td>41</td>\n",
       "      <td>10</td>\n",
       "      <td>476</td>\n",
       "      <td>3386.953329</td>\n",
       "      <td>635.053749</td>\n",
       "    </tr>\n",
       "    <tr>\n",
       "      <th>2</th>\n",
       "      <td>8010.959999</td>\n",
       "      <td>2</td>\n",
       "      <td>19</td>\n",
       "      <td>4</td>\n",
       "      <td>904</td>\n",
       "      <td>4005.480000</td>\n",
       "      <td>364.134545</td>\n",
       "    </tr>\n",
       "    <tr>\n",
       "      <th>3</th>\n",
       "      <td>4158.000000</td>\n",
       "      <td>1</td>\n",
       "      <td>9</td>\n",
       "      <td>3</td>\n",
       "      <td>905</td>\n",
       "      <td>4158.000000</td>\n",
       "      <td>4158.000000</td>\n",
       "    </tr>\n",
       "    <tr>\n",
       "      <th>4</th>\n",
       "      <td>3739.610005</td>\n",
       "      <td>2</td>\n",
       "      <td>23</td>\n",
       "      <td>10</td>\n",
       "      <td>789</td>\n",
       "      <td>1869.805002</td>\n",
       "      <td>207.756111</td>\n",
       "    </tr>\n",
       "  </tbody>\n",
       "</table>\n",
       "</div>"
      ],
      "text/plain": [
       "    Total_Sales  Total_Orders  Total_Quantity  Total_Products  Recency  \\\n",
       "0   1292.970009             2               5               4      364   \n",
       "1  10160.859987             3              41              10      476   \n",
       "2   8010.959999             2              19               4      904   \n",
       "3   4158.000000             1               9               3      905   \n",
       "4   3739.610005             2              23              10      789   \n",
       "\n",
       "   Avg_Order_Value  Avg_Monthly_Spend  \n",
       "0       646.485004          35.915834  \n",
       "1      3386.953329         635.053749  \n",
       "2      4005.480000         364.134545  \n",
       "3      4158.000000        4158.000000  \n",
       "4      1869.805002         207.756111  "
      ]
     },
     "execution_count": 52,
     "metadata": {},
     "output_type": "execute_result"
    }
   ],
   "source": [
    "features = [\n",
    "    'Total_Sales',\n",
    "    'Total_Orders',\n",
    "    'Total_Quantity',\n",
    "    'Total_Products',\n",
    "    'Recency',\n",
    "    'Avg_Order_Value',\n",
    "    'Avg_Monthly_Spend'\n",
    "]\n",
    "df = data[features]\n",
    "df.head()"
   ]
  },
  {
   "cell_type": "code",
   "execution_count": 53,
   "id": "e2958470",
   "metadata": {},
   "outputs": [
    {
     "name": "stderr",
     "output_type": "stream",
     "text": [
      "C:\\Users\\Acer\\AppData\\Local\\Temp\\ipykernel_15464\\2543945023.py:2: SettingWithCopyWarning: \n",
      "A value is trying to be set on a copy of a slice from a DataFrame.\n",
      "Try using .loc[row_indexer,col_indexer] = value instead\n",
      "\n",
      "See the caveats in the documentation: https://pandas.pydata.org/pandas-docs/stable/user_guide/indexing.html#returning-a-view-versus-a-copy\n",
      "  df['Churn'] = df['Recency'].apply(lambda x: 1 if x > 366 else 0)\n"
     ]
    }
   ],
   "source": [
    "# Ví dụ: Nếu không mua hàng trong 12 tháng gần nhất => churn\n",
    "df['Churn'] = df['Recency'].apply(lambda x: 1 if x > 366 else 0)"
   ]
  },
  {
   "cell_type": "code",
   "execution_count": null,
   "id": "d7f2d80b",
   "metadata": {},
   "outputs": [],
   "source": [
    "# Choose specific features\n",
    "features_without_recency = [\n",
    "    'Total_Sales',\n",
    "    'Total_Orders',\n",
    "    'Total_Quantity',\n",
    "    'Total_Products',\n",
    "    'Avg_Order_Value',\n",
    "    'Avg_Monthly_Spend'\n",
    "]\n",
    "\n",
    "# Chọn features và label\n",
    "X = df[features_without_recency]\n",
    "y = df['Churn']\n",
    "\n",
    "# Chuẩn hóa dữ liệu\n",
    "scaler = StandardScaler()\n",
    "X_scaled = scaler.fit_transform(X)\n",
    "\n",
    "# Tách train-test\n",
    "X_train, X_test, y_train, y_test = train_test_split(X_scaled, y, test_size=0.2, random_state=42)\n"
   ]
  },
  {
   "cell_type": "markdown",
   "id": "de772969",
   "metadata": {},
   "source": [
    "### 2. XGBoost (Extreme Gradient Boosting) Model"
   ]
  },
  {
   "cell_type": "code",
   "execution_count": null,
   "id": "20bb201d",
   "metadata": {},
   "outputs": [
    {
     "name": "stderr",
     "output_type": "stream",
     "text": [
      "c:\\Users\\Acer\\AppData\\Local\\Programs\\Python\\Python311\\Lib\\site-packages\\xgboost\\sklearn.py:1395: UserWarning: `use_label_encoder` is deprecated in 1.7.0.\n",
      "  warnings.warn(\"`use_label_encoder` is deprecated in 1.7.0.\")\n"
     ]
    },
    {
     "name": "stdout",
     "output_type": "stream",
     "text": [
      "              precision    recall  f1-score   support\n",
      "\n",
      "           0       0.57      0.20      0.30       573\n",
      "           1       0.79      0.95      0.86      1805\n",
      "\n",
      "    accuracy                           0.77      2378\n",
      "   macro avg       0.68      0.58      0.58      2378\n",
      "weighted avg       0.74      0.77      0.73      2378\n",
      "\n",
      "ROC AUC Score: 0.677964061434932\n",
      "Confusion Matrix:\n",
      "\n"
     ]
    },
    {
     "data": {
      "image/png": "[encoded data removed]",
      "text/plain": [
       "<Figure size 640x480 with 2 Axes>"
      ]
     },
     "metadata": {},
     "output_type": "display_data"
    }
   ],
   "source": [
    "# Khởi tạo và huấn luyện mô hình\n",
    "xgb_model = xgb.XGBClassifier(n_estimators=100, learning_rate=0.1, max_depth=5, use_label_encoder=False, eval_metric='logloss')\n",
    "xgb_model.fit(X_train, y_train)\n",
    "\n",
    "# Dự đoán\n",
    "y_pred = xgb_model.predict(X_test)\n",
    "y_prob = xgb_model.predict_proba(X_test)[:, 1]\n",
    "\n",
    "# Đánh giá mô hình\n",
    "print(classification_report(y_test, y_pred))\n",
    "print(\"ROC AUC Score:\", roc_auc_score(y_test, y_prob))\n",
    "print(\"Confusion Matrix:\\n\")\n",
    "sns.heatmap(confusion_matrix(y_test, y_pred), annot=True, fmt='d', cmap='Blues')\n",
    "plt.show()"
   ]
  },
  {
   "cell_type": "code",
   "execution_count": 56,
   "id": "e36c7a63",
   "metadata": {},
   "outputs": [
    {
     "data": {
      "image/png": "[encoded data removed]",
      "text/plain": [
       "<Figure size 1000x600 with 1 Axes>"
      ]
     },
     "metadata": {},
     "output_type": "display_data"
    }
   ],
   "source": [
    "importances = xgb_model.feature_importances_\n",
    "feat_names = df[features_without_recency].columns\n",
    "\n",
    "plt.figure(figsize=(10, 6))\n",
    "sns.barplot(x=importances, y=feat_names)\n",
    "plt.title(\"Feature Importance for Churn Prediction\")\n",
    "plt.show()"
   ]
  },
  {
   "cell_type": "markdown",
   "id": "c307ce60",
   "metadata": {},
   "source": [
    "**Conclusion:**\n",
    "1. Total Orders is the most important factor.\n",
    "2. The secondary factors play a very small role:\n",
    "   - Avg_Monthly_Spend, Total_Sales have a slight influence.\n",
    "   - Avg_Order_Value, Total_Products and Total_Quantity have almost no influence on churn/active distinction — at least in the current model."
   ]
  }
 ],
 "metadata": {
  "kernelspec": {
   "display_name": "Python 3",
   "language": "python",
   "name": "python3"
  },
  "language_info": {
   "codemirror_mode": {
    "name": "ipython",
    "version": 3
   },
   "file_extension": ".py",
   "mimetype": "text/x-python",
   "name": "python",
   "nbconvert_exporter": "python",
   "pygments_lexer": "ipython3",
   "version": "3.11.2"
  }
 },
 "nbformat": 4,
 "nbformat_minor": 5
}
